{
 "cells": [
  {
   "cell_type": "code",
   "execution_count": 25,
   "metadata": {},
   "outputs": [
    {
     "data": {
      "text/plain": [
       "True"
      ]
     },
     "execution_count": 25,
     "metadata": {},
     "output_type": "execute_result"
    }
   ],
   "source": [
    "import webbrowser\n",
    "driver =  webbrowser.open('https://www.truity.com/personality-test/17315/test-results/16125323')\n",
    "driver"
   ]
  },
  {
   "cell_type": "code",
   "execution_count": null,
   "metadata": {},
   "outputs": [
    {
     "name": "stdout",
     "output_type": "stream",
     "text": [
      "Page is ready!\n",
      "Page is ready!\n",
      "Page is ready!\n",
      "Page is ready!\n",
      "Page is ready!\n",
      "Page is ready!\n",
      "Page is ready!\n",
      "Page is ready!\n"
     ]
    }
   ],
   "source": [
    "import selenium as sel\n",
    "from selenium import webdriver\n",
    "#from selenium.webdriver.common.keys import Keys\n",
    "from selenium.webdriver.support.ui import WebDriverWait\n",
    "from selenium.webdriver.support import expected_conditions as EC\n",
    "from selenium.webdriver.common.by import By\n",
    "from selenium.common.exceptions import TimeoutException\n",
    "\n",
    "def open_site():\n",
    "    global driver\n",
    "    driver = webdriver.Chrome()\n",
    "    driver.get(\"https://www.truity.com/test/big-five-personality-test\")\n",
    "    assert 'Free Big Five Personality Test' in driver.title\n",
    "\n",
    "#check which page number \n",
    "#pg_num = driver.find_element_by_css_selector(\"li[class*='active']\") \n",
    "#assert \n",
    "\n",
    "\n",
    "#going from one page to the other\n",
    "def next_page():\n",
    "    wait_load(By.CSS_SELECTOR, \"button[class*='webform-next button-primary btn btn-default form-submit']\" )\n",
    "    nxt_pg = driver.find_element_by_css_selector(\"button[class*='webform-next button-primary btn btn-default form-submit']\")\n",
    "    driver.execute_script(\"arguments[0].click();\",nxt_pg)\n",
    "    \n",
    "def wait_load(choice, qns_id):\n",
    "    delay = 2 # seconds \n",
    "    try:\n",
    "        WebDriverWait(driver, delay).until(EC.presence_of_element_located((choice, qns_id)))\n",
    "        print(\"Page is ready!\")\n",
    "    except TimeoutException:\n",
    "        print(\"Loading took too much time!\")\n",
    "\n",
    "\n",
    "#SUBMIT FORM\n",
    "def submit():\n",
    "    wait_load(By.CSS_SELECTOR, \"button[class*='webform-submit button-primary btn btn-default form-submit']\" )\n",
    "    score_it = driver.find_element_by_css_selector(\"button[class*='webform-submit button-primary btn btn-default form-submit']\")\n",
    "    driver.execute_script(\"arguments[0].click();\",score_it)\n",
    "    wait_load(By.ID, \"block-system-main\")\n",
    "    skip_reg = driver.find_element_by_xpath('//*[@id=\"block-system-main\"]/div[3]/a')\n",
    "    driver.execute_script(\"arguments[0].click();\", skip_reg)\n",
    "    \n",
    "accuracy = {'1':'INACCURATE', '2': 'MILDLY_INACCURATE', '3':'NEUTRAL', '4':'MILDLY_ACCURATE', '5':'ACCURATE'}\n",
    "\n",
    "#saving data\n",
    "def save_data(x):\n",
    "    file_path = \"C:\\\\Users\\\\Claudia Koh\\\\Desktop\\\\UROP_SUICIDE\\\\DATA\"\n",
    "    file_path = file_path + '_all_' + accuracy[x]\n",
    "    with open(file_path, \"w\") as f:\n",
    "        f.write(driver.page_source)\n",
    "    \n",
    "\n",
    "#QUESTION INDICATOR = LINKED TO PERSONALITY TYPE\n",
    "ocean = ['a','o','e','c','n']\n",
    "\n",
    "#NUMBER INDICATING THE SETS OF OCEAN QUESTIONS\n",
    "qns_pg1 = ['1-', '2-','3-','4-']\n",
    "qns_pg2 = ['5-', '6-', '7-', '8-']\n",
    "qns_pg3 = ['-word-1-', '-word-2-','-word-3-','-word-4-']\n",
    "\n",
    "# 1:INACCURATE, 2: MILDLYINACCURATE, 3:NEUTRAL, 4:MILDLY ACCURATE, 5:ACCURATE\n",
    "num_accuracy = ['1','2', '3','4','5'] \n",
    "\n",
    "for x in num_accuracy: #for 2/5 accuracy only\n",
    "    open_site()\n",
    "    wait_load(By.ID,'edit-submitted-a1-1')\n",
    "    for a in qns_pg1:\n",
    "        for i in ocean:\n",
    "            xpath = '//input[@id=\"edit-submitted-' + i + a + x + '\"]'\n",
    "            choices = driver.find_element_by_xpath(xpath)\n",
    "            driver.execute_script(\"arguments[0].click();\" , choices)\n",
    "    next_page()\n",
    "    wait_load(By.ID, 'edit-submitted-a5-1')\n",
    "    for b in qns_pg2:\n",
    "        for i in ocean:\n",
    "            xpath = '//input[@id=\"edit-submitted-' + i + b + x + '\"]'\n",
    "            choices = driver.find_element_by_xpath(xpath)\n",
    "            driver.execute_script(\"arguments[0].click();\" , choices)\n",
    "    next_page()\n",
    "    wait_load(By.ID, 'edit-submitted-a-word-1-1')\n",
    "    for c in qns_pg3:\n",
    "        for i in ocean:\n",
    "            xpath = '//input[@id=\"edit-submitted-' + i + c + x + '\"]'\n",
    "            choices = driver.find_element_by_xpath(xpath)\n",
    "            driver.execute_script(\"arguments[0].click();\" , choices)\n",
    "    next_page()\n",
    "    submit()\n",
    "    save_data(x)\n",
    "    driver.close()\n",
    "    \n"
   ]
  },
  {
   "cell_type": "code",
   "execution_count": null,
   "metadata": {},
   "outputs": [],
   "source": [
    "import requests\n",
    "import pprint\n",
    "#using requests and BeautifulSoup libraries\n",
    "\n",
    "#res = requests.get('https://www.truity.com/personality-test/17315/test-results/16125323', \"16191f5d59a57c6804b8834870f282da\")\n",
    "#pprint.pprint(res.content)"
   ]
  },
  {
   "cell_type": "code",
   "execution_count": 16,
   "metadata": {},
   "outputs": [
    {
     "name": "stdout",
     "output_type": "stream",
     "text": [
      "im in! We have \n",
      "\n",
      "im in! \n",
      "\n",
      "im in! \n",
      "<!--//--><![CDATA[// ><!--\n",
      "\n",
      "      /* UVCHARTS_JS_DEFINED */\n",
      "      uvChartsAddData('16191f5d59a57c6804b8834870f282da', {\"config\":{\"frame\":{\"bgcolor\":\"rgba(255,255,255,0)\"},\"label\":{\"suffix\":\"%\",\"fontfamily\":\"inherit\",\"fontsize\":\"18px\",\"fontweight\":700,\"precision\":1,\"hor_fontsize\":\"14px\",\"hor_fontweight\":600},\"margin\":{\"top\":10,\"left\":150,\"right\":100,\"bottom\":30},\"legend\":{\"showlegends\":false},\"axis\":{\"strokecolor\":\"rgba(0,0,0,0)\",\"textcolor\":\"#727272\",\"fontfamily\":\"inherit\",\"fontsize\":\"18px\",\"ticks\":10,\"showticks\":true,\"showtext\":true,\"tick_color\":\"black\",\"opacity\":0.1,\"max\":100},\"tooltip\":{\"format\":\"%l: %v\"},\"graph\":{\"responsive\":true,\"orientation\":\"Horizontal\",\"palette\":\"Android\",\"bgcolor\":\"rgba(255,255,255,0)\"},\"effects\":{\"hovercolor\":\"#CCCCCC\",\"duration\":100,\"hover\":200,\"textcolor\":\"#727272\",\"showhovertext\":true},\"meta\":[],\"dimension\":{\"width\":370,\"height\":208},\"bar\":{\"fontfamily\":\"inherit\",\"fontsize\":\"16px\",\"fontweight\":700,\"textcolor\":\"#0000ff\"}},\"type\":\"Bar\",\"definition\":{\"categories\":[\"\"],\"dataset\":{\"\":[{\"name\":\"O\",\"value\":25},{\"name\":\"C\",\"value\":33},{\"name\":\"E\",\"value\":42},{\"name\":\"A\",\"value\":25},{\"name\":\"N\",\"value\":17}]}}});\n",
      "    \n",
      "//--><!]]>\n",
      "\n",
      "im in! \n",
      "\n"
     ]
    }
   ],
   "source": [
    "#beautifulsoup - CDATA \n",
    "import bs4\n",
    "from bs4 import BeautifulSoup\n",
    "\n",
    "txt = '''<foobar>We have \n",
    "<div class=\"uvcharts-wrapper uvcharts-wrapper-bar\" data-uvcharts-id=\"16191f5d59a57c6804b8834870f282da\">\n",
    "<script type=\"text/javascript\">\n",
    "<!--//--><![CDATA[// ><!--\n",
    "\n",
    "      /* UVCHARTS_JS_DEFINED */\n",
    "      uvChartsAddData('16191f5d59a57c6804b8834870f282da', {\"config\":{\"frame\":{\"bgcolor\":\"rgba(255,255,255,0)\"},\"label\":{\"suffix\":\"%\",\"fontfamily\":\"inherit\",\"fontsize\":\"18px\",\"fontweight\":700,\"precision\":1,\"hor_fontsize\":\"14px\",\"hor_fontweight\":600},\"margin\":{\"top\":10,\"left\":150,\"right\":100,\"bottom\":30},\"legend\":{\"showlegends\":false},\"axis\":{\"strokecolor\":\"rgba(0,0,0,0)\",\"textcolor\":\"#727272\",\"fontfamily\":\"inherit\",\"fontsize\":\"18px\",\"ticks\":10,\"showticks\":true,\"showtext\":true,\"tick_color\":\"black\",\"opacity\":0.1,\"max\":100},\"tooltip\":{\"format\":\"%l: %v\"},\"graph\":{\"responsive\":true,\"orientation\":\"Horizontal\",\"palette\":\"Android\",\"bgcolor\":\"rgba(255,255,255,0)\"},\"effects\":{\"hovercolor\":\"#CCCCCC\",\"duration\":100,\"hover\":200,\"textcolor\":\"#727272\",\"showhovertext\":true},\"meta\":[],\"dimension\":{\"width\":370,\"height\":208},\"bar\":{\"fontfamily\":\"inherit\",\"fontsize\":\"16px\",\"fontweight\":700,\"textcolor\":\"#0000ff\"}},\"type\":\"Bar\",\"definition\":{\"categories\":[\"\"],\"dataset\":{\"\":[{\"name\":\"O\",\"value\":25},{\"name\":\"C\",\"value\":33},{\"name\":\"E\",\"value\":42},{\"name\":\"A\",\"value\":25},{\"name\":\"N\",\"value\":17}]}}});\n",
    "    \n",
    "//--><!]]>\n",
    "</script></div>\n",
    "       </foobar>'''\n",
    "\n",
    "soup = BeautifulSoup(txt)\n",
    "for cd in soup.findAll(text=True):\n",
    "    print('im in!', cd)\n",
    "    if isinstance(cd, bs4.CData):\n",
    "        print ('CData contents: %r' % cd)"
   ]
  },
  {
   "cell_type": "code",
   "execution_count": null,
   "metadata": {},
   "outputs": [],
   "source": []
  }
 ],
 "metadata": {
  "kernelspec": {
   "display_name": "Python 3",
   "language": "python",
   "name": "python3"
  },
  "language_info": {
   "codemirror_mode": {
    "name": "ipython",
    "version": 3
   },
   "file_extension": ".py",
   "mimetype": "text/x-python",
   "name": "python",
   "nbconvert_exporter": "python",
   "pygments_lexer": "ipython3",
   "version": "3.7.3"
  }
 },
 "nbformat": 4,
 "nbformat_minor": 2
}
